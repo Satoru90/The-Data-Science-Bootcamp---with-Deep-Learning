{
 "cells": [
  {
   "cell_type": "code",
   "execution_count": 1,
   "id": "5c9cbc91",
   "metadata": {
    "collapsed": true
   },
   "outputs": [
    {
     "name": "stdout",
     "output_type": "stream",
     "text": [
      "Requirement already satisfied: qiskit in c:\\users\\kemal\\anaconda3\\lib\\site-packages (0.39.2)\n",
      "Requirement already satisfied: qiskit-terra==0.22.2 in c:\\users\\kemal\\anaconda3\\lib\\site-packages (from qiskit) (0.22.2)\n",
      "Requirement already satisfied: qiskit-aer==0.11.1 in c:\\users\\kemal\\anaconda3\\lib\\site-packages (from qiskit) (0.11.1)\n",
      "Requirement already satisfied: qiskit-ibmq-provider==0.19.2 in c:\\users\\kemal\\anaconda3\\lib\\site-packages (from qiskit) (0.19.2)\n",
      "Requirement already satisfied: numpy>=1.16.3 in c:\\users\\kemal\\anaconda3\\lib\\site-packages (from qiskit-aer==0.11.1->qiskit) (1.21.5)\n",
      "Requirement already satisfied: scipy>=1.0 in c:\\users\\kemal\\anaconda3\\lib\\site-packages (from qiskit-aer==0.11.1->qiskit) (1.7.3)\n",
      "Requirement already satisfied: websockets>=10.0 in c:\\users\\kemal\\anaconda3\\lib\\site-packages (from qiskit-ibmq-provider==0.19.2->qiskit) (10.4)\n",
      "Requirement already satisfied: python-dateutil>=2.8.0 in c:\\users\\kemal\\anaconda3\\lib\\site-packages (from qiskit-ibmq-provider==0.19.2->qiskit) (2.8.2)\n",
      "Requirement already satisfied: requests>=2.19 in c:\\users\\kemal\\anaconda3\\lib\\site-packages (from qiskit-ibmq-provider==0.19.2->qiskit) (2.27.1)\n",
      "Requirement already satisfied: requests-ntlm>=1.1.0 in c:\\users\\kemal\\anaconda3\\lib\\site-packages (from qiskit-ibmq-provider==0.19.2->qiskit) (1.1.0)\n",
      "Requirement already satisfied: websocket-client>=1.0.1 in c:\\users\\kemal\\anaconda3\\lib\\site-packages (from qiskit-ibmq-provider==0.19.2->qiskit) (1.4.2)\n",
      "Requirement already satisfied: urllib3>=1.21.1 in c:\\users\\kemal\\anaconda3\\lib\\site-packages (from qiskit-ibmq-provider==0.19.2->qiskit) (1.26.9)\n",
      "Requirement already satisfied: tweedledum<2.0,>=1.1 in c:\\users\\kemal\\anaconda3\\lib\\site-packages (from qiskit-terra==0.22.2->qiskit) (1.1.1)\n",
      "Requirement already satisfied: psutil>=5 in c:\\users\\kemal\\anaconda3\\lib\\site-packages (from qiskit-terra==0.22.2->qiskit) (5.8.0)\n",
      "Requirement already satisfied: stevedore>=3.0.0 in c:\\users\\kemal\\anaconda3\\lib\\site-packages (from qiskit-terra==0.22.2->qiskit) (4.1.0)\n",
      "Requirement already satisfied: sympy>=1.3 in c:\\users\\kemal\\anaconda3\\lib\\site-packages (from qiskit-terra==0.22.2->qiskit) (1.10.1)\n",
      "Requirement already satisfied: ply>=3.10 in c:\\users\\kemal\\anaconda3\\lib\\site-packages (from qiskit-terra==0.22.2->qiskit) (3.11)\n",
      "Requirement already satisfied: retworkx>=0.11.0 in c:\\users\\kemal\\anaconda3\\lib\\site-packages (from qiskit-terra==0.22.2->qiskit) (0.12.0)\n",
      "Requirement already satisfied: dill>=0.3 in c:\\users\\kemal\\anaconda3\\lib\\site-packages (from qiskit-terra==0.22.2->qiskit) (0.3.6)\n",
      "Requirement already satisfied: six>=1.5 in c:\\users\\kemal\\anaconda3\\lib\\site-packages (from python-dateutil>=2.8.0->qiskit-ibmq-provider==0.19.2->qiskit) (1.16.0)\n",
      "Requirement already satisfied: idna<4,>=2.5 in c:\\users\\kemal\\anaconda3\\lib\\site-packages (from requests>=2.19->qiskit-ibmq-provider==0.19.2->qiskit) (3.3)\n",
      "Requirement already satisfied: charset-normalizer~=2.0.0 in c:\\users\\kemal\\anaconda3\\lib\\site-packages (from requests>=2.19->qiskit-ibmq-provider==0.19.2->qiskit) (2.0.4)\n",
      "Requirement already satisfied: certifi>=2017.4.17 in c:\\users\\kemal\\anaconda3\\lib\\site-packages (from requests>=2.19->qiskit-ibmq-provider==0.19.2->qiskit) (2021.10.8)\n",
      "Requirement already satisfied: ntlm-auth>=1.0.2 in c:\\users\\kemal\\anaconda3\\lib\\site-packages (from requests-ntlm>=1.1.0->qiskit-ibmq-provider==0.19.2->qiskit) (1.5.0)\n",
      "Requirement already satisfied: cryptography>=1.3 in c:\\users\\kemal\\anaconda3\\lib\\site-packages (from requests-ntlm>=1.1.0->qiskit-ibmq-provider==0.19.2->qiskit) (3.4.8)\n",
      "Requirement already satisfied: cffi>=1.12 in c:\\users\\kemal\\anaconda3\\lib\\site-packages (from cryptography>=1.3->requests-ntlm>=1.1.0->qiskit-ibmq-provider==0.19.2->qiskit) (1.15.0)\n",
      "Requirement already satisfied: pycparser in c:\\users\\kemal\\anaconda3\\lib\\site-packages (from cffi>=1.12->cryptography>=1.3->requests-ntlm>=1.1.0->qiskit-ibmq-provider==0.19.2->qiskit) (2.21)\n",
      "Requirement already satisfied: rustworkx==0.12.0 in c:\\users\\kemal\\anaconda3\\lib\\site-packages (from retworkx>=0.11.0->qiskit-terra==0.22.2->qiskit) (0.12.0)\n",
      "Requirement already satisfied: pbr!=2.1.0,>=2.0.0 in c:\\users\\kemal\\anaconda3\\lib\\site-packages (from stevedore>=3.0.0->qiskit-terra==0.22.2->qiskit) (5.11.0)\n",
      "Requirement already satisfied: mpmath>=0.19 in c:\\users\\kemal\\anaconda3\\lib\\site-packages (from sympy>=1.3->qiskit-terra==0.22.2->qiskit) (1.2.1)\n",
      "Note: you may need to restart the kernel to use updated packages.\n"
     ]
    }
   ],
   "source": [
    "pip install qiskit"
   ]
  },
  {
   "cell_type": "code",
   "execution_count": null,
   "id": "154319a0",
   "metadata": {},
   "outputs": [],
   "source": []
  }
 ],
 "metadata": {
  "kernelspec": {
   "display_name": "Python 3 (ipykernel)",
   "language": "python",
   "name": "python3"
  },
  "language_info": {
   "codemirror_mode": {
    "name": "ipython",
    "version": 3
   },
   "file_extension": ".py",
   "mimetype": "text/x-python",
   "name": "python",
   "nbconvert_exporter": "python",
   "pygments_lexer": "ipython3",
   "version": "3.9.12"
  }
 },
 "nbformat": 4,
 "nbformat_minor": 5
}
