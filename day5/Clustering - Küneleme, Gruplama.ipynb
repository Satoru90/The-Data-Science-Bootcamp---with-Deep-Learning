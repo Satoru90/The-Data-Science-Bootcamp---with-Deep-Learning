{
 "cells": [
  {
   "cell_type": "markdown",
   "id": "64daf05a",
   "metadata": {},
   "source": [
    "# Clustering - Unsupervised Learning (Denetimsiz, Hedef \"y\" yok)"
   ]
  },
  {
   "cell_type": "code",
   "execution_count": 1,
   "id": "27722915",
   "metadata": {},
   "outputs": [],
   "source": [
    "import pandas as pd\n",
    "import warnings\n",
    "warnings.filterwarnings(\"ignore\")"
   ]
  },
  {
   "cell_type": "code",
   "execution_count": 2,
   "id": "438998bc",
   "metadata": {},
   "outputs": [],
   "source": [
    "df=pd.read_excel(\"cars.xls\")"
   ]
  },
  {
   "cell_type": "code",
   "execution_count": 3,
   "id": "e0d2cf1d",
   "metadata": {},
   "outputs": [
    {
     "data": {
      "text/html": [
       "<div>\n",
       "<style scoped>\n",
       "    .dataframe tbody tr th:only-of-type {\n",
       "        vertical-align: middle;\n",
       "    }\n",
       "\n",
       "    .dataframe tbody tr th {\n",
       "        vertical-align: top;\n",
       "    }\n",
       "\n",
       "    .dataframe thead th {\n",
       "        text-align: right;\n",
       "    }\n",
       "</style>\n",
       "<table border=\"1\" class=\"dataframe\">\n",
       "  <thead>\n",
       "    <tr style=\"text-align: right;\">\n",
       "      <th></th>\n",
       "      <th>Price</th>\n",
       "      <th>Mileage</th>\n",
       "      <th>Make</th>\n",
       "      <th>Model</th>\n",
       "      <th>Trim</th>\n",
       "      <th>Type</th>\n",
       "      <th>Cylinder</th>\n",
       "      <th>Liter</th>\n",
       "      <th>Doors</th>\n",
       "      <th>Cruise</th>\n",
       "      <th>Sound</th>\n",
       "      <th>Leather</th>\n",
       "    </tr>\n",
       "  </thead>\n",
       "  <tbody>\n",
       "    <tr>\n",
       "      <th>0</th>\n",
       "      <td>17314.103129</td>\n",
       "      <td>8221</td>\n",
       "      <td>Buick</td>\n",
       "      <td>Century</td>\n",
       "      <td>Sedan 4D</td>\n",
       "      <td>Sedan</td>\n",
       "      <td>6</td>\n",
       "      <td>3.1</td>\n",
       "      <td>4</td>\n",
       "      <td>1</td>\n",
       "      <td>1</td>\n",
       "      <td>1</td>\n",
       "    </tr>\n",
       "    <tr>\n",
       "      <th>1</th>\n",
       "      <td>17542.036083</td>\n",
       "      <td>9135</td>\n",
       "      <td>Buick</td>\n",
       "      <td>Century</td>\n",
       "      <td>Sedan 4D</td>\n",
       "      <td>Sedan</td>\n",
       "      <td>6</td>\n",
       "      <td>3.1</td>\n",
       "      <td>4</td>\n",
       "      <td>1</td>\n",
       "      <td>1</td>\n",
       "      <td>0</td>\n",
       "    </tr>\n",
       "    <tr>\n",
       "      <th>2</th>\n",
       "      <td>16218.847862</td>\n",
       "      <td>13196</td>\n",
       "      <td>Buick</td>\n",
       "      <td>Century</td>\n",
       "      <td>Sedan 4D</td>\n",
       "      <td>Sedan</td>\n",
       "      <td>6</td>\n",
       "      <td>3.1</td>\n",
       "      <td>4</td>\n",
       "      <td>1</td>\n",
       "      <td>1</td>\n",
       "      <td>0</td>\n",
       "    </tr>\n",
       "    <tr>\n",
       "      <th>3</th>\n",
       "      <td>16336.913140</td>\n",
       "      <td>16342</td>\n",
       "      <td>Buick</td>\n",
       "      <td>Century</td>\n",
       "      <td>Sedan 4D</td>\n",
       "      <td>Sedan</td>\n",
       "      <td>6</td>\n",
       "      <td>3.1</td>\n",
       "      <td>4</td>\n",
       "      <td>1</td>\n",
       "      <td>0</td>\n",
       "      <td>0</td>\n",
       "    </tr>\n",
       "    <tr>\n",
       "      <th>4</th>\n",
       "      <td>16339.170324</td>\n",
       "      <td>19832</td>\n",
       "      <td>Buick</td>\n",
       "      <td>Century</td>\n",
       "      <td>Sedan 4D</td>\n",
       "      <td>Sedan</td>\n",
       "      <td>6</td>\n",
       "      <td>3.1</td>\n",
       "      <td>4</td>\n",
       "      <td>1</td>\n",
       "      <td>0</td>\n",
       "      <td>1</td>\n",
       "    </tr>\n",
       "  </tbody>\n",
       "</table>\n",
       "</div>"
      ],
      "text/plain": [
       "          Price  Mileage   Make    Model      Trim   Type  Cylinder  Liter  \\\n",
       "0  17314.103129     8221  Buick  Century  Sedan 4D  Sedan         6    3.1   \n",
       "1  17542.036083     9135  Buick  Century  Sedan 4D  Sedan         6    3.1   \n",
       "2  16218.847862    13196  Buick  Century  Sedan 4D  Sedan         6    3.1   \n",
       "3  16336.913140    16342  Buick  Century  Sedan 4D  Sedan         6    3.1   \n",
       "4  16339.170324    19832  Buick  Century  Sedan 4D  Sedan         6    3.1   \n",
       "\n",
       "   Doors  Cruise  Sound  Leather  \n",
       "0      4       1      1        1  \n",
       "1      4       1      1        0  \n",
       "2      4       1      1        0  \n",
       "3      4       1      0        0  \n",
       "4      4       1      0        1  "
      ]
     },
     "execution_count": 3,
     "metadata": {},
     "output_type": "execute_result"
    }
   ],
   "source": [
    "df.head()"
   ]
  },
  {
   "cell_type": "code",
   "execution_count": 4,
   "id": "cd68e8f0",
   "metadata": {
    "scrolled": true
   },
   "outputs": [
    {
     "data": {
      "text/plain": [
       "Price       0\n",
       "Mileage     0\n",
       "Make        0\n",
       "Model       0\n",
       "Trim        0\n",
       "Type        0\n",
       "Cylinder    0\n",
       "Liter       0\n",
       "Doors       0\n",
       "Cruise      0\n",
       "Sound       0\n",
       "Leather     0\n",
       "dtype: int64"
      ]
     },
     "execution_count": 4,
     "metadata": {},
     "output_type": "execute_result"
    }
   ],
   "source": [
    "df.isnull().sum()"
   ]
  },
  {
   "cell_type": "code",
   "execution_count": 4,
   "id": "db307f89",
   "metadata": {},
   "outputs": [],
   "source": [
    "from sklearn.cluster import KMeans # en yakin komsular\n",
    "from sklearn.metrics import silhouette_score # kac gruba ayirmak gerekiyor icin kullanilan metrics\n",
    "#elbow method "
   ]
  },
  {
   "cell_type": "raw",
   "id": "0de220fb",
   "metadata": {},
   "source": [
    "clustering: verilerin benzemelerine göre farkli gruplara ayirma\n",
    "mesela: banka müsteri banka hesablarina göre farkli grub ve farkli muamele"
   ]
  },
  {
   "cell_type": "code",
   "execution_count": 5,
   "id": "bd2bc175",
   "metadata": {},
   "outputs": [],
   "source": [
    "x=df[[\"Price\",\"Mileage\",\"Cylinder\"]] # bunlara göre arabalari gruplara ayirabiliyormuyuz"
   ]
  },
  {
   "cell_type": "code",
   "execution_count": 6,
   "id": "16cdf188",
   "metadata": {},
   "outputs": [
    {
     "data": {
      "text/html": [
       "<div>\n",
       "<style scoped>\n",
       "    .dataframe tbody tr th:only-of-type {\n",
       "        vertical-align: middle;\n",
       "    }\n",
       "\n",
       "    .dataframe tbody tr th {\n",
       "        vertical-align: top;\n",
       "    }\n",
       "\n",
       "    .dataframe thead th {\n",
       "        text-align: right;\n",
       "    }\n",
       "</style>\n",
       "<table border=\"1\" class=\"dataframe\">\n",
       "  <thead>\n",
       "    <tr style=\"text-align: right;\">\n",
       "      <th></th>\n",
       "      <th>Price</th>\n",
       "      <th>Mileage</th>\n",
       "      <th>Cylinder</th>\n",
       "    </tr>\n",
       "  </thead>\n",
       "  <tbody>\n",
       "    <tr>\n",
       "      <th>0</th>\n",
       "      <td>17314.103129</td>\n",
       "      <td>8221</td>\n",
       "      <td>6</td>\n",
       "    </tr>\n",
       "    <tr>\n",
       "      <th>1</th>\n",
       "      <td>17542.036083</td>\n",
       "      <td>9135</td>\n",
       "      <td>6</td>\n",
       "    </tr>\n",
       "    <tr>\n",
       "      <th>2</th>\n",
       "      <td>16218.847862</td>\n",
       "      <td>13196</td>\n",
       "      <td>6</td>\n",
       "    </tr>\n",
       "    <tr>\n",
       "      <th>3</th>\n",
       "      <td>16336.913140</td>\n",
       "      <td>16342</td>\n",
       "      <td>6</td>\n",
       "    </tr>\n",
       "    <tr>\n",
       "      <th>4</th>\n",
       "      <td>16339.170324</td>\n",
       "      <td>19832</td>\n",
       "      <td>6</td>\n",
       "    </tr>\n",
       "  </tbody>\n",
       "</table>\n",
       "</div>"
      ],
      "text/plain": [
       "          Price  Mileage  Cylinder\n",
       "0  17314.103129     8221         6\n",
       "1  17542.036083     9135         6\n",
       "2  16218.847862    13196         6\n",
       "3  16336.913140    16342         6\n",
       "4  16339.170324    19832         6"
      ]
     },
     "execution_count": 6,
     "metadata": {},
     "output_type": "execute_result"
    }
   ],
   "source": [
    "x.head()"
   ]
  },
  {
   "cell_type": "code",
   "execution_count": 7,
   "id": "2294b8d2",
   "metadata": {},
   "outputs": [],
   "source": [
    "model=KMeans(n_clusters=6)\n",
    "# niye dört Cluster?\n",
    "# price cok & kilometre az - lüx, gösteris icin araba cok kullanmiyor"
   ]
  },
  {
   "cell_type": "code",
   "execution_count": 8,
   "id": "c27d2d2d",
   "metadata": {},
   "outputs": [],
   "source": [
    "model=model.fit(x)"
   ]
  },
  {
   "cell_type": "code",
   "execution_count": 9,
   "id": "355cab2e",
   "metadata": {},
   "outputs": [],
   "source": [
    "tahmin=model.predict(x)"
   ]
  },
  {
   "cell_type": "code",
   "execution_count": 10,
   "id": "510cba50",
   "metadata": {
    "collapsed": true
   },
   "outputs": [
    {
     "data": {
      "text/plain": [
       "array([4, 4, 4, 2, 2, 2, 2, 2, 2, 0, 4, 2, 2, 2, 2, 2, 2, 0, 0, 0, 4, 4,\n",
       "       4, 2, 2, 2, 2, 2, 0, 0, 2, 2, 2, 2, 2, 0, 0, 0, 0, 0, 4, 4, 2, 2,\n",
       "       2, 2, 0, 0, 0, 0, 2, 2, 2, 2, 2, 2, 0, 0, 0, 0, 4, 4, 2, 2, 2, 2,\n",
       "       2, 2, 0, 0, 4, 1, 1, 1, 1, 1, 2, 0, 0, 0, 3, 3, 3, 5, 5, 5, 5, 5,\n",
       "       5, 5, 1, 1, 1, 1, 1, 1, 5, 5, 5, 5, 1, 1, 1, 1, 1, 5, 5, 5, 5, 5,\n",
       "       1, 1, 1, 1, 5, 5, 5, 5, 5, 5, 1, 1, 1, 1, 1, 5, 5, 5, 5, 5, 1, 1,\n",
       "       1, 1, 5, 5, 5, 5, 5, 5, 3, 3, 1, 1, 1, 5, 5, 5, 5, 5, 3, 3, 3, 3,\n",
       "       3, 3, 3, 3, 3, 5, 4, 4, 2, 2, 2, 2, 2, 0, 0, 0, 4, 4, 4, 4, 2, 2,\n",
       "       2, 2, 0, 0, 2, 2, 2, 2, 2, 2, 0, 0, 0, 0, 4, 4, 2, 2, 2, 2, 0, 0,\n",
       "       0, 0, 4, 4, 4, 2, 2, 2, 2, 2, 2, 0, 4, 2, 2, 2, 2, 0, 0, 0, 0, 0,\n",
       "       4, 2, 2, 2, 2, 2, 2, 0, 0, 0, 4, 4, 2, 2, 2, 2, 2, 0, 0, 0, 4, 4,\n",
       "       4, 2, 2, 0, 0, 0, 0, 0, 4, 4, 4, 2, 2, 2, 2, 2, 2, 0, 4, 4, 2, 2,\n",
       "       2, 2, 2, 2, 2, 0, 4, 2, 2, 2, 2, 2, 0, 0, 0, 0, 4, 4, 2, 2, 2, 2,\n",
       "       2, 2, 0, 0, 2, 2, 2, 2, 2, 2, 2, 0, 0, 0, 4, 4, 2, 2, 0, 0, 0, 0,\n",
       "       0, 0, 4, 4, 2, 2, 2, 2, 2, 2, 0, 0, 4, 4, 2, 2, 2, 2, 2, 2, 2, 2,\n",
       "       4, 4, 4, 4, 2, 2, 2, 2, 0, 0, 3, 3, 1, 1, 5, 5, 5, 5, 5, 5, 1, 1,\n",
       "       1, 1, 1, 5, 5, 5, 5, 5, 4, 4, 2, 2, 2, 2, 0, 0, 0, 0, 4, 4, 4, 2,\n",
       "       2, 2, 0, 0, 0, 0, 4, 1, 1, 2, 2, 0, 0, 0, 0, 0, 4, 4, 2, 2, 2, 2,\n",
       "       2, 0, 0, 0, 4, 4, 2, 2, 2, 2, 0, 0, 0, 0, 4, 2, 2, 2, 2, 2, 2, 0,\n",
       "       0, 0, 4, 2, 2, 2, 2, 2, 2, 0, 0, 0, 4, 4, 4, 2, 2, 2, 2, 2, 2, 2,\n",
       "       4, 4, 2, 2, 2, 2, 2, 2, 0, 0, 4, 4, 4, 4, 2, 2, 2, 0, 0, 0, 4, 4,\n",
       "       2, 2, 2, 2, 2, 2, 0, 0, 4, 2, 2, 2, 2, 0, 0, 0, 0, 0, 1, 2, 2, 2,\n",
       "       2, 2, 0, 0, 0, 0, 4, 2, 2, 2, 2, 2, 2, 0, 0, 0, 4, 4, 4, 4, 2, 2,\n",
       "       2, 0, 0, 0, 4, 4, 4, 4, 4, 2, 2, 0, 0, 0, 4, 4, 4, 2, 2, 2, 0, 0,\n",
       "       0, 0, 4, 4, 4, 4, 4, 2, 2, 2, 2, 2, 4, 4, 4, 4, 4, 4, 4, 2, 2, 0,\n",
       "       2, 2, 2, 2, 0, 0, 0, 0, 0, 0, 4, 4, 4, 2, 2, 2, 0, 0, 0, 0, 4, 4,\n",
       "       2, 2, 2, 2, 2, 0, 0, 0, 1, 1, 1, 1, 5, 5, 5, 5, 5, 0, 4, 2, 2, 2,\n",
       "       2, 2, 2, 2, 0, 0, 2, 2, 2, 2, 2, 2, 2, 2, 0, 0, 4, 2, 2, 2, 2, 2,\n",
       "       2, 0, 0, 0, 4, 4, 4, 4, 4, 2, 2, 2, 2, 2, 1, 1, 1, 5, 5, 5, 5, 5,\n",
       "       5, 5, 1, 1, 1, 5, 5, 5, 5, 0, 0, 0, 1, 1, 1, 5, 5, 5, 5, 5, 5, 5,\n",
       "       1, 1, 1, 1, 5, 5, 5, 5, 0, 0, 1, 1, 1, 1, 5, 5, 5, 5, 5, 0, 1, 1,\n",
       "       1, 1, 1, 5, 5, 5, 5, 0, 1, 1, 1, 1, 5, 5, 5, 5, 5, 0, 1, 1, 5, 5,\n",
       "       5, 5, 5, 5, 5, 5, 1, 1, 1, 1, 1, 1, 5, 5, 0, 0, 1, 1, 5, 5, 5, 5,\n",
       "       5, 5, 5, 0, 1, 5, 5, 5, 5, 5, 5, 5, 5, 0, 4, 1, 2, 0, 4, 4, 4, 4,\n",
       "       2, 2, 2, 2, 2, 2, 2, 2, 0, 0, 0, 0, 0, 0, 0, 0, 4, 4, 4, 4, 4, 4,\n",
       "       2, 2, 2, 2, 2, 2, 2, 2, 2, 2, 2, 2, 2, 2, 0, 0, 0, 0, 0, 0, 0, 0,\n",
       "       0, 0, 4, 4, 4, 4, 2, 2, 2, 2, 0, 0])"
      ]
     },
     "execution_count": 10,
     "metadata": {},
     "output_type": "execute_result"
    }
   ],
   "source": [
    "tahmin"
   ]
  },
  {
   "cell_type": "code",
   "execution_count": 11,
   "id": "a557ba41",
   "metadata": {},
   "outputs": [
    {
     "name": "stderr",
     "output_type": "stream",
     "text": [
      "C:\\Users\\Kemal\\AppData\\Local\\Temp\\ipykernel_17920\\3923429746.py:1: SettingWithCopyWarning: \n",
      "A value is trying to be set on a copy of a slice from a DataFrame.\n",
      "Try using .loc[row_indexer,col_indexer] = value instead\n",
      "\n",
      "See the caveats in the documentation: https://pandas.pydata.org/pandas-docs/stable/user_guide/indexing.html#returning-a-view-versus-a-copy\n",
      "  x[\"clusters\"]=tahmin\n"
     ]
    }
   ],
   "source": [
    "x[\"clusters\"]=tahmin"
   ]
  },
  {
   "cell_type": "code",
   "execution_count": 12,
   "id": "b217fa07",
   "metadata": {},
   "outputs": [
    {
     "data": {
      "text/html": [
       "<div>\n",
       "<style scoped>\n",
       "    .dataframe tbody tr th:only-of-type {\n",
       "        vertical-align: middle;\n",
       "    }\n",
       "\n",
       "    .dataframe tbody tr th {\n",
       "        vertical-align: top;\n",
       "    }\n",
       "\n",
       "    .dataframe thead th {\n",
       "        text-align: right;\n",
       "    }\n",
       "</style>\n",
       "<table border=\"1\" class=\"dataframe\">\n",
       "  <thead>\n",
       "    <tr style=\"text-align: right;\">\n",
       "      <th></th>\n",
       "      <th>Price</th>\n",
       "      <th>Mileage</th>\n",
       "      <th>Cylinder</th>\n",
       "      <th>clusters</th>\n",
       "    </tr>\n",
       "  </thead>\n",
       "  <tbody>\n",
       "    <tr>\n",
       "      <th>0</th>\n",
       "      <td>17314.103129</td>\n",
       "      <td>8221</td>\n",
       "      <td>6</td>\n",
       "      <td>4</td>\n",
       "    </tr>\n",
       "    <tr>\n",
       "      <th>1</th>\n",
       "      <td>17542.036083</td>\n",
       "      <td>9135</td>\n",
       "      <td>6</td>\n",
       "      <td>4</td>\n",
       "    </tr>\n",
       "    <tr>\n",
       "      <th>2</th>\n",
       "      <td>16218.847862</td>\n",
       "      <td>13196</td>\n",
       "      <td>6</td>\n",
       "      <td>4</td>\n",
       "    </tr>\n",
       "    <tr>\n",
       "      <th>3</th>\n",
       "      <td>16336.913140</td>\n",
       "      <td>16342</td>\n",
       "      <td>6</td>\n",
       "      <td>2</td>\n",
       "    </tr>\n",
       "    <tr>\n",
       "      <th>4</th>\n",
       "      <td>16339.170324</td>\n",
       "      <td>19832</td>\n",
       "      <td>6</td>\n",
       "      <td>2</td>\n",
       "    </tr>\n",
       "  </tbody>\n",
       "</table>\n",
       "</div>"
      ],
      "text/plain": [
       "          Price  Mileage  Cylinder  clusters\n",
       "0  17314.103129     8221         6         4\n",
       "1  17542.036083     9135         6         4\n",
       "2  16218.847862    13196         6         4\n",
       "3  16336.913140    16342         6         2\n",
       "4  16339.170324    19832         6         2"
      ]
     },
     "execution_count": 12,
     "metadata": {},
     "output_type": "execute_result"
    }
   ],
   "source": [
    "x.head()"
   ]
  },
  {
   "cell_type": "code",
   "execution_count": 13,
   "id": "b61b1a93",
   "metadata": {},
   "outputs": [
    {
     "data": {
      "text/plain": [
       "0.34695805985327044"
      ]
     },
     "execution_count": 13,
     "metadata": {},
     "output_type": "execute_result"
    }
   ],
   "source": [
    "silhouette_score(x,tahmin)"
   ]
  },
  {
   "cell_type": "code",
   "execution_count": 14,
   "id": "9ca13404",
   "metadata": {},
   "outputs": [],
   "source": [
    "import matplotlib.pyplot as plt"
   ]
  },
  {
   "cell_type": "code",
   "execution_count": 15,
   "id": "2bdd2540",
   "metadata": {},
   "outputs": [
    {
     "data": {
      "image/png": "[encoded data removed]",
      "text/plain": [
       "<Figure size 720x432 with 2 Axes>"
      ]
     },
     "metadata": {
      "needs_background": "light"
     },
     "output_type": "display_data"
    }
   ],
   "source": [
    "plt.figure(figsize=(10,6))\n",
    "plt.scatter(x.Mileage,x.Price,c=tahmin);\n",
    "plt.xlabel(\"Mileage\")\n",
    "plt.ylabel(\"Price\")\n",
    "plt.colorbar()\n",
    "plt.grid()"
   ]
  },
  {
   "cell_type": "code",
   "execution_count": 16,
   "id": "c1156f38",
   "metadata": {},
   "outputs": [],
   "source": [
    "# elbow method: grubu böle böle artik silhouette_score degismessze en uygun bölme o"
   ]
  },
  {
   "cell_type": "code",
   "execution_count": 22,
   "id": "231ca190",
   "metadata": {
    "scrolled": true
   },
   "outputs": [
    {
     "name": "stdout",
     "output_type": "stream",
     "text": [
      "Cluster  2  score  0.4511454152050176\n",
      "Cluster  3  score  0.41321086070876917\n",
      "Cluster  4  score  0.4127102907895869\n",
      "Cluster  5  score  0.3549031875763706\n",
      "Cluster  6  score  0.34791453047082105\n",
      "Cluster  7  score  0.3653254232148115\n",
      "Cluster  8  score  0.3656633187190488\n",
      "Cluster  9  score  0.37050052899961267\n",
      "Cluster  10  score  0.364335764464311\n",
      "Cluster  11  score  0.3556083143823144\n"
     ]
    }
   ],
   "source": [
    "allscore = []\n",
    "allclusters = []\n",
    "uzakliklar = []\n",
    "\n",
    "# clustere göre score'in degismesi\n",
    "def clust(kactane):\n",
    "    \n",
    "    for i in range(1,kactane+1):\n",
    "        i=i+1\n",
    "        model=KMeans(n_clusters=i)\n",
    "        model=model.fit(x)\n",
    "        tahmin=model.predict(x)\n",
    "        score=silhouette_score(x,tahmin)\n",
    "        uzaklik=model.inertia_\n",
    "        print(\"Cluster \",i, \" score \",score)\n",
    "        #score ve uzaklik yukardaki listelere eklememiz lazim\n",
    "        allscore.append(score)\n",
    "        allclusters.append(i)\n",
    "        uzakliklar.append(uzaklik)\n",
    "clust(10)\n",
    "# 5. Cluster da durmamiz lazim, 2 de basladigi icin yani 4"
   ]
  },
  {
   "cell_type": "code",
   "execution_count": null,
   "id": "82cc7bb0",
   "metadata": {},
   "outputs": [],
   "source": [
    "# bunun grafigini cizelim"
   ]
  },
  {
   "cell_type": "code",
   "execution_count": 25,
   "id": "e01481ae",
   "metadata": {},
   "outputs": [
    {
     "data": {
      "image/png": "[encoded data removed]",
      "text/plain": [
       "<Figure size 432x288 with 1 Axes>"
      ]
     },
     "metadata": {
      "needs_background": "light"
     },
     "output_type": "display_data"
    }
   ],
   "source": [
    "plt.xlabel(\"k\")\n",
    "plt.ylabel(\"uzakliklar\")\n",
    "plt.plot(allclusters,uzakliklar);\n",
    "#grafik nerde kiriliyor, orda durmamiz gerekiyor"
   ]
  },
  {
   "cell_type": "code",
   "execution_count": null,
   "id": "7d41b2e3",
   "metadata": {},
   "outputs": [],
   "source": [
    "# elbow metodunun gösterdigi uzere veriyi 4 farkli kümede en ideal oldugunu düsünüyürouz"
   ]
  },
  {
   "cell_type": "code",
   "execution_count": null,
   "id": "3a838bd7",
   "metadata": {},
   "outputs": [],
   "source": [
    "# ucuz ve üzerine az km olan 0, ucuz üzerine cok km, pahali ama az km, orta"
   ]
  },
  {
   "cell_type": "code",
   "execution_count": null,
   "id": "8ddc8bb5",
   "metadata": {},
   "outputs": [],
   "source": [
    "# diger makine ögrenmenin metodun farkli, silhoutte_score fazla olmasi basari daha fazla göstermiypr"
   ]
  },
  {
   "cell_type": "code",
   "execution_count": 27,
   "id": "d9c5525f",
   "metadata": {},
   "outputs": [
    {
     "data": {
      "text/html": [
       "<div>\n",
       "<style scoped>\n",
       "    .dataframe tbody tr th:only-of-type {\n",
       "        vertical-align: middle;\n",
       "    }\n",
       "\n",
       "    .dataframe tbody tr th {\n",
       "        vertical-align: top;\n",
       "    }\n",
       "\n",
       "    .dataframe thead th {\n",
       "        text-align: right;\n",
       "    }\n",
       "</style>\n",
       "<table border=\"1\" class=\"dataframe\">\n",
       "  <thead>\n",
       "    <tr style=\"text-align: right;\">\n",
       "      <th></th>\n",
       "      <th>Price</th>\n",
       "      <th>Mileage</th>\n",
       "      <th>Make</th>\n",
       "      <th>Model</th>\n",
       "      <th>Trim</th>\n",
       "      <th>Type</th>\n",
       "      <th>Cylinder</th>\n",
       "      <th>Liter</th>\n",
       "      <th>Doors</th>\n",
       "      <th>Cruise</th>\n",
       "      <th>Sound</th>\n",
       "      <th>Leather</th>\n",
       "    </tr>\n",
       "  </thead>\n",
       "  <tbody>\n",
       "    <tr>\n",
       "      <th>150</th>\n",
       "      <td>70755.466717</td>\n",
       "      <td>583</td>\n",
       "      <td>Cadillac</td>\n",
       "      <td>XLR-V8</td>\n",
       "      <td>Hardtop Conv 2D</td>\n",
       "      <td>Convertible</td>\n",
       "      <td>8</td>\n",
       "      <td>4.6</td>\n",
       "      <td>2</td>\n",
       "      <td>1</td>\n",
       "      <td>1</td>\n",
       "      <td>1</td>\n",
       "    </tr>\n",
       "    <tr>\n",
       "      <th>151</th>\n",
       "      <td>68566.187189</td>\n",
       "      <td>6420</td>\n",
       "      <td>Cadillac</td>\n",
       "      <td>XLR-V8</td>\n",
       "      <td>Hardtop Conv 2D</td>\n",
       "      <td>Convertible</td>\n",
       "      <td>8</td>\n",
       "      <td>4.6</td>\n",
       "      <td>2</td>\n",
       "      <td>1</td>\n",
       "      <td>1</td>\n",
       "      <td>1</td>\n",
       "    </tr>\n",
       "    <tr>\n",
       "      <th>152</th>\n",
       "      <td>69133.731722</td>\n",
       "      <td>7892</td>\n",
       "      <td>Cadillac</td>\n",
       "      <td>XLR-V8</td>\n",
       "      <td>Hardtop Conv 2D</td>\n",
       "      <td>Convertible</td>\n",
       "      <td>8</td>\n",
       "      <td>4.6</td>\n",
       "      <td>2</td>\n",
       "      <td>1</td>\n",
       "      <td>1</td>\n",
       "      <td>1</td>\n",
       "    </tr>\n",
       "    <tr>\n",
       "      <th>153</th>\n",
       "      <td>66374.307040</td>\n",
       "      <td>12021</td>\n",
       "      <td>Cadillac</td>\n",
       "      <td>XLR-V8</td>\n",
       "      <td>Hardtop Conv 2D</td>\n",
       "      <td>Convertible</td>\n",
       "      <td>8</td>\n",
       "      <td>4.6</td>\n",
       "      <td>2</td>\n",
       "      <td>1</td>\n",
       "      <td>1</td>\n",
       "      <td>1</td>\n",
       "    </tr>\n",
       "    <tr>\n",
       "      <th>154</th>\n",
       "      <td>65281.481237</td>\n",
       "      <td>15600</td>\n",
       "      <td>Cadillac</td>\n",
       "      <td>XLR-V8</td>\n",
       "      <td>Hardtop Conv 2D</td>\n",
       "      <td>Convertible</td>\n",
       "      <td>8</td>\n",
       "      <td>4.6</td>\n",
       "      <td>2</td>\n",
       "      <td>1</td>\n",
       "      <td>1</td>\n",
       "      <td>1</td>\n",
       "    </tr>\n",
       "    <tr>\n",
       "      <th>155</th>\n",
       "      <td>63913.117248</td>\n",
       "      <td>18200</td>\n",
       "      <td>Cadillac</td>\n",
       "      <td>XLR-V8</td>\n",
       "      <td>Hardtop Conv 2D</td>\n",
       "      <td>Convertible</td>\n",
       "      <td>8</td>\n",
       "      <td>4.6</td>\n",
       "      <td>2</td>\n",
       "      <td>1</td>\n",
       "      <td>1</td>\n",
       "      <td>1</td>\n",
       "    </tr>\n",
       "    <tr>\n",
       "      <th>156</th>\n",
       "      <td>60567.549093</td>\n",
       "      <td>23193</td>\n",
       "      <td>Cadillac</td>\n",
       "      <td>XLR-V8</td>\n",
       "      <td>Hardtop Conv 2D</td>\n",
       "      <td>Convertible</td>\n",
       "      <td>8</td>\n",
       "      <td>4.6</td>\n",
       "      <td>2</td>\n",
       "      <td>1</td>\n",
       "      <td>1</td>\n",
       "      <td>1</td>\n",
       "    </tr>\n",
       "  </tbody>\n",
       "</table>\n",
       "</div>"
      ],
      "text/plain": [
       "            Price  Mileage      Make   Model             Trim         Type  \\\n",
       "150  70755.466717      583  Cadillac  XLR-V8  Hardtop Conv 2D  Convertible   \n",
       "151  68566.187189     6420  Cadillac  XLR-V8  Hardtop Conv 2D  Convertible   \n",
       "152  69133.731722     7892  Cadillac  XLR-V8  Hardtop Conv 2D  Convertible   \n",
       "153  66374.307040    12021  Cadillac  XLR-V8  Hardtop Conv 2D  Convertible   \n",
       "154  65281.481237    15600  Cadillac  XLR-V8  Hardtop Conv 2D  Convertible   \n",
       "155  63913.117248    18200  Cadillac  XLR-V8  Hardtop Conv 2D  Convertible   \n",
       "156  60567.549093    23193  Cadillac  XLR-V8  Hardtop Conv 2D  Convertible   \n",
       "\n",
       "     Cylinder  Liter  Doors  Cruise  Sound  Leather  \n",
       "150         8    4.6      2       1      1        1  \n",
       "151         8    4.6      2       1      1        1  \n",
       "152         8    4.6      2       1      1        1  \n",
       "153         8    4.6      2       1      1        1  \n",
       "154         8    4.6      2       1      1        1  \n",
       "155         8    4.6      2       1      1        1  \n",
       "156         8    4.6      2       1      1        1  "
      ]
     },
     "execution_count": 27,
     "metadata": {},
     "output_type": "execute_result"
    }
   ],
   "source": [
    "df[df[\"Price\"]>60000]"
   ]
  }
 ],
 "metadata": {
  "kernelspec": {
   "display_name": "Python 3 (ipykernel)",
   "language": "python",
   "name": "python3"
  },
  "language_info": {
   "codemirror_mode": {
    "name": "ipython",
    "version": 3
   },
   "file_extension": ".py",
   "mimetype": "text/x-python",
   "name": "python",
   "nbconvert_exporter": "python",
   "pygments_lexer": "ipython3",
   "version": "3.9.12"
  }
 },
 "nbformat": 4,
 "nbformat_minor": 5
}
